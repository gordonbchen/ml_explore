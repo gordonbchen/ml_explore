{
 "cells": [
  {
   "cell_type": "markdown",
   "id": "a629ed00",
   "metadata": {},
   "source": [
    "# Mixture of Experts"
   ]
  },
  {
   "cell_type": "code",
   "execution_count": 1,
   "id": "bd70aaa6",
   "metadata": {},
   "outputs": [],
   "source": [
    "import torch\n",
    "import torch.nn as nn\n",
    "import torch.nn.functional as F\n",
    "\n",
    "class MoE(nn.Module):\n",
    "    \"\"\"Mixtral of Experts: https://arxiv.org/pdf/2401.04088\"\"\"\n",
    "    def __init__(self, n_experts: int, n_active_experts: int, d_model: int, d_ff: int) -> None:\n",
    "        super().__init__()\n",
    "        self.n_active_experts = n_active_experts\n",
    "        self.experts = nn.ModuleList([SwiGLU(d_model, d_ff) for i in range(n_experts)])\n",
    "        self.gate = nn.Linear(d_model, n_experts, bias=False)\n",
    "\n",
    "    def forward(self, x: torch.Tensor) -> torch.Tensor:\n",
    "        gate_logits = self.gate(x)  # (B, T, C) -> (B, T, E)\n",
    "        topk = torch.topk(gate_logits, self.n_active_experts, dim=-1)  # (B, T, k)\n",
    "        gate_weights = torch.softmax(topk.values, dim=-1)  # (B, T, k)\n",
    "        outputs = torch.zeros_like(x)\n",
    "        for i, expert in enumerate(self.experts):\n",
    "            expert_mask = (topk.indices == i)  # (B, T, k)\n",
    "            if expert_mask.any():\n",
    "                token_mask = expert_mask.any(dim=-1)  # (B, T)\n",
    "                outputs[token_mask] += gate_weights[expert_mask].unsqueeze(-1) * expert(x[token_mask])\n",
    "        return outputs\n",
    "\n",
    "class SwiGLU(nn.Module):\n",
    "    \"\"\"\n",
    "    SwiGLU: https://arxiv.org/pdf/2002.05202\n",
    "    Swish aka SiLU: https://pytorch.org/docs/stable/generated/torch.nn.SiLU.html\n",
    "    \"\"\"\n",
    "    def __init__(self, d_model: int, d_ff: int) -> None:\n",
    "        super().__init__()\n",
    "        self.gate = nn.Linear(d_model, d_ff, bias=False)\n",
    "        self.up_proj = nn.Linear(d_model, d_ff, bias=False)\n",
    "        self.down_proj = nn.Linear(d_ff, d_model, bias=False)\n",
    "    \n",
    "    def forward(self, x: torch.Tensor) -> torch.Tensor:\n",
    "        x = F.silu(self.gate(x)) * self.up_proj(x)\n",
    "        return self.down_proj(x)\n",
    "\n",
    "B, T, C = 32, 16, 512\n",
    "x_rand = torch.randn(B, T, C)\n",
    "moe = MoE(n_experts=8, n_active_experts=2, d_model=C, d_ff=4*C)\n",
    "assert moe(x_rand).shape == (B, T, C)"
   ]
  }
 ],
 "metadata": {
  "kernelspec": {
   "display_name": ".venv",
   "language": "python",
   "name": "python3"
  },
  "language_info": {
   "codemirror_mode": {
    "name": "ipython",
    "version": 3
   },
   "file_extension": ".py",
   "mimetype": "text/x-python",
   "name": "python",
   "nbconvert_exporter": "python",
   "pygments_lexer": "ipython3",
   "version": "3.10.12"
  }
 },
 "nbformat": 4,
 "nbformat_minor": 5
}
